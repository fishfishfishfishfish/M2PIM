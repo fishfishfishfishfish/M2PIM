{
 "cells": [
  {
   "cell_type": "code",
   "execution_count": 1,
   "id": "d7891481",
   "metadata": {},
   "outputs": [],
   "source": [
    "import os\n",
    "from tqdm.notebook import tqdm\n",
    "import pandas\n",
    "import numpy\n",
    "import matplotlib.pyplot as plt\n",
    "\n",
    "from ProblemInstance import ProblemInstance\n",
    "from baseline_intra import bl_intra_1\n",
    "from baseline_request import bl_req_FCFS\n",
    "from baseline_pslice import bl_pslice\n",
    "from baseline_pimlet import bl_pimlet\n",
    "from our_approach import leader_follower"
   ]
  },
  {
   "cell_type": "code",
   "execution_count": 2,
   "id": "c02f44f4",
   "metadata": {},
   "outputs": [],
   "source": [
    "predef_N_X = numpy.array([\n",
    "    12000, # 0 cDeepArchContext\n",
    "    400,   # 1 cDeepArchContext\n",
    "    15600, # 2 DeepEarInputLayer\n",
    "    12000, # 3 DeepEarAmbientScene\n",
    "    3600,  # 4 DeepEarStress\n",
    "    3600,  # 5 DeepEarEmotion\n",
    "    3600,  # 6 DeepEarSpeaker\n",
    "    512,   # 7 GaitExtractor\n",
    "    90808, # 8 GaitIdentifierCNN\n",
    "    15608, # 9 GaitIdentifierLSTM\n",
    "    15608, # 10 GaitIdentifierFC  \n",
    "    15200, # 11 GaitAuthenticLSTM \n",
    "    1000,   # 12 LeNet\n",
    "    1000,   # 13 AlexNet\n",
    "    1000,   # 14 VGG8\n",
    "    1000,   # 15 ResNet18\n",
    "    1000,   # 16 DenseNet40\n",
    "    1000,   # 17 LSTM\n",
    "])\n",
    "\n",
    "fontsize = 15\n",
    "neurosim_dir = \"NetStructure/\"\n",
    "summary_file = \"NeuroSIMOut/summary.csv\"\n",
    "figure_dir = \"figures/\"\n",
    "color_map = [\"#ff8884\", \"indianred\", \"#f8ac8c\",  \"#2878b5\", '#80b1d3', \"#9ac9db\"]\n",
    "predef_N_X = numpy.array([12000, 400, 15600, 12000, 3600, 3600, 3600, 512, 90808, \n",
    "                          15608, 15608, 15200, 1000, 1000, 1000, 1000, 1000, 1000,])"
   ]
  },
  {
   "cell_type": "code",
   "execution_count": 3,
   "id": "73a11080",
   "metadata": {},
   "outputs": [],
   "source": [
    "def get_time(problem, plan): \n",
    "    return problem.running_time_decompose(*problem.get_pc_packages_from_plan(*plan))"
   ]
  },
  {
   "cell_type": "code",
   "execution_count": 4,
   "id": "2357a8ae",
   "metadata": {
    "scrolled": true
   },
   "outputs": [
    {
     "data": {
      "application/vnd.jupyter.widget-view+json": {
       "model_id": "aa9c5ce2320e4b1f88f39ec94a5ac213",
       "version_major": 2,
       "version_minor": 0
      },
      "text/plain": [
       "  0%|          | 0/100 [00:00<?, ?it/s]"
      ]
     },
     "metadata": {},
     "output_type": "display_data"
    }
   ],
   "source": [
    "# seed = 1\n",
    "seed_set = numpy.arange(100)\n",
    "multi_model_problem = ProblemInstance(neurosim_dir)\n",
    "multi_model_problem.read_nn_profile(summary_file)\n",
    "N_M = multi_model_problem.N_M\n",
    "nn_ids = numpy.arange(N_M)\n",
    "nmrange = numpy.arange(2, N_M+1)\n",
    "\n",
    "\n",
    "intra_read_time = numpy.zeros_like(nmrange).astype(float)\n",
    "inter_read_time = numpy.zeros_like(nmrange).astype(float)\n",
    "pslice_read_time = numpy.zeros_like(nmrange).astype(float)\n",
    "pimlet_read_time = numpy.zeros_like(nmrange).astype(float)\n",
    "our_read_time = numpy.zeros_like(nmrange).astype(float)\n",
    "\n",
    "intra_write_time = numpy.zeros_like(nmrange).astype(float)\n",
    "inter_write_time = numpy.zeros_like(nmrange).astype(float)\n",
    "pslice_write_time = numpy.zeros_like(nmrange).astype(float)\n",
    "pimlet_write_time = numpy.zeros_like(nmrange).astype(float)\n",
    "our_write_time = numpy.zeros_like(nmrange).astype(float)\n",
    "\n",
    "\n",
    "nn_ids = numpy.arange(N_M)\n",
    "for seed in tqdm(seed_set):\n",
    "    numpy.random.seed(seed)\n",
    "    numpy.random.shuffle(nn_ids)\n",
    "    for i, n_m in enumerate(nmrange):\n",
    "        nn = nn_ids[:n_m]\n",
    "        multi_model_problem.get_exact_requests(nn_ids=nn, n_x=predef_N_X[nn])\n",
    "\n",
    "        plan_intra = bl_intra_1(multi_model_problem)\n",
    "        time_intra = get_time(multi_model_problem, plan_intra)\n",
    "        intra_read_time[i] += time_intra[\"read latency\"]\n",
    "        intra_write_time[i] += time_intra[\"write latency\"]\n",
    "\n",
    "        package_inter = bl_req_FCFS(multi_model_problem) \n",
    "        time_inter = multi_model_problem.running_time_decompose(*package_inter)\n",
    "        inter_read_time[i] += time_inter[\"read latency\"]\n",
    "        inter_write_time[i] += time_inter[\"write latency\"]\n",
    "\n",
    "        plan_pslice = bl_pslice(multi_model_problem)\n",
    "        time_pslice = get_time(multi_model_problem, plan_pslice)\n",
    "        pslice_read_time[i] += time_pslice[\"read latency\"]\n",
    "        pslice_write_time[i] += time_pslice[\"write latency\"]\n",
    "\n",
    "        package_pimlet = bl_pimlet(multi_model_problem) \n",
    "        time_pimlet = multi_model_problem.running_time_decompose(*package_pimlet)\n",
    "        pimlet_read_time[i] += time_pimlet[\"read latency\"]\n",
    "        pimlet_write_time[i] += time_pimlet[\"write latency\"]\n",
    "    \n",
    "        plan_our = leader_follower(multi_model_problem)\n",
    "        time_our = get_time(multi_model_problem, plan_our)\n",
    "        our_read_time[i] += time_our[\"read latency\"]\n",
    "        our_write_time[i] += time_our[\"write latency\"]\n",
    "intra_read_time /= len(seed_set)\n",
    "inter_read_time /= len(seed_set)\n",
    "pslice_read_time /= len(seed_set)\n",
    "pimlet_read_time /= len(seed_set)\n",
    "our_read_time /= len(seed_set)\n",
    "intra_write_time /= len(seed_set)\n",
    "inter_write_time /= len(seed_set)\n",
    "pslice_write_time /= len(seed_set)\n",
    "pimlet_write_time /= len(seed_set)\n",
    "our_write_time /= len(seed_set)"
   ]
  },
  {
   "cell_type": "code",
   "execution_count": 8,
   "id": "f7638f58",
   "metadata": {},
   "outputs": [
    {
     "data": {
      "image/png": "[encoded data removed]",
      "text/plain": [
       "<Figure size 720x144 with 3 Axes>"
      ]
     },
     "metadata": {
      "needs_background": "light"
     },
     "output_type": "display_data"
    }
   ],
   "source": [
    "fig, (ax1, ax2) = plt.subplots(2, 1, sharex=True, figsize=(10,2), gridspec_kw={'height_ratios': [1, 4]})\n",
    "ax3 = fig.add_subplot(111, frameon=False)\n",
    "names = nmrange\n",
    "n_col = 5\n",
    "width = 6\n",
    "width_per_col = width/n_col\n",
    "base_xticks = numpy.arange(len(names)) * (width+3)\n",
    "ax1.bar(base_xticks-width/2, intra_write_time, width=width_per_col, label=\"Intra\", color=color_map[0])\n",
    "ax1.bar(base_xticks-width/2 + width_per_col, inter_write_time, width=width_per_col, label=\"Inter\", color=color_map[1])\n",
    "ax1.bar(base_xticks-width/2 + width_per_col*2, pslice_write_time, width=width_per_col, label=\"PSLICE\", color=color_map[2])\n",
    "ax1.bar(base_xticks-width/2 + width_per_col*3, pimlet_write_time, width=width_per_col, label=\"PIMLet\", color=color_map[3])\n",
    "ax1.bar(base_xticks-width/2 + width_per_col*4, our_write_time, width=width_per_col, label=\"PIMShare\", color=color_map[4])\n",
    "\n",
    "ax2.bar(base_xticks-width/2, intra_write_time, width=width_per_col, label=\"Intra\", color=color_map[0])\n",
    "ax2.bar(base_xticks-width/2 + width_per_col, inter_write_time, width=width_per_col, label=\"Inter\", color=color_map[1])\n",
    "ax2.bar(base_xticks-width/2 + width_per_col*2, pslice_write_time, width=width_per_col, label=\"PSLICE\", color=color_map[2])\n",
    "ax2.bar(base_xticks-width/2 + width_per_col*3, pimlet_write_time, width=width_per_col, label=\"PIMLet\", color=color_map[3])\n",
    "ax2.bar(base_xticks-width/2 + width_per_col*4, our_write_time, width=width_per_col, label=\"PIMShare\", color=color_map[4])\n",
    "\n",
    "ax1_ylim = (4e8, 8.1e8)\n",
    "ax2_ylim = (0, 1.5e6)\n",
    "ax1.set_xticks(ticks=base_xticks-width_per_col/2, labels=names,fontsize=fontsize)\n",
    "ax1.set_yticks(ticks=[6e8], labels=[6], fontsize=fontsize)\n",
    "ax1.text(-10.1, ax1_ylim[1]*1.1,\"1e8\",fontsize=fontsize)\n",
    "ax2.set_xticks(ticks=base_xticks-width_per_col/2, labels=names, fontsize=fontsize)\n",
    "ax2.set_yticks(ticks=[0, 5e5, 10e5], labels=[0, 5, 10], fontsize=fontsize)\n",
    "ax2.text(-10, ax2_ylim[1]*0.9,\"1e5\",fontsize=fontsize)\n",
    "\n",
    "ax2.set_ylim(ax2_ylim)\n",
    "ax1.set_ylim(ax1_ylim)\n",
    "\n",
    "\n",
    "ax1.spines['bottom'].set_visible(False)\n",
    "ax2.spines['top'].set_visible(False)\n",
    "ax1.tick_params(bottom=False)\n",
    "ax1.grid(axis='y')\n",
    "ax2.grid(axis='y')\n",
    "\n",
    "d = .85\n",
    "kwargs = dict(marker=[(-1, -d), (1, d)], markersize=15,\n",
    "              linestyle='none', color='r', mec='r', mew=1, clip_on=False)\n",
    "ax1.plot([0, 1], [0, 0],transform=ax1.transAxes, **kwargs)\n",
    "ax2.plot([0, 1], [1, 1], transform=ax2.transAxes, **kwargs)\n",
    "\n",
    "ax3.tick_params(labelcolor='none', top=False, bottom=False, left=False, right=False)\n",
    "ax2.set_xlabel(\"Number of models\", fontsize=fontsize)\n",
    "ax3.set_ylabel(\"Writing Time (ns)\", fontsize=fontsize)\n",
    "ax1.legend(loc=(-0.05, 1.8), ncol=5, fontsize=fontsize)\n",
    "plt.subplots_adjust(wspace=0, hspace=0.1)\n",
    "\n",
    "plt.show()"
   ]
  },
  {
   "cell_type": "code",
   "execution_count": 9,
   "id": "fed66c82",
   "metadata": {},
   "outputs": [
    {
     "data": {
      "application/vnd.jupyter.widget-view+json": {
       "model_id": "be133b148eb0408993ea0b57047b5d88",
       "version_major": 2,
       "version_minor": 0
      },
      "text/plain": [
       "  0%|          | 0/10 [00:00<?, ?it/s]"
      ]
     },
     "metadata": {},
     "output_type": "display_data"
    }
   ],
   "source": [
    "seed = 5\n",
    "n_req = 20000\n",
    "n_req_step = 10\n",
    "n_req_start = 2000\n",
    "\n",
    "multi_model_problem = ProblemInstance(neurosim_dir)\n",
    "multi_model_problem.read_nn_profile(summary_file)\n",
    "N_M = multi_model_problem.N_M\n",
    "nxrange = numpy.arange(n_req_start, n_req+1, n_req_start)\n",
    "\n",
    "x_intra_read_time = numpy.zeros_like(nxrange).astype(float)\n",
    "x_inter_read_time = numpy.zeros_like(nxrange).astype(float)\n",
    "x_pslice_read_time = numpy.zeros_like(nxrange).astype(float)\n",
    "x_pimlet_read_time = numpy.zeros_like(nxrange).astype(float)\n",
    "x_our_read_time = numpy.zeros_like(nxrange).astype(float)\n",
    "\n",
    "x_intra_write_time = numpy.zeros_like(nxrange).astype(float)\n",
    "x_inter_write_time = numpy.zeros_like(nxrange).astype(float)\n",
    "x_pslice_write_time = numpy.zeros_like(nxrange).astype(float)\n",
    "x_pimlet_write_time = numpy.zeros_like(nxrange).astype(float)\n",
    "x_our_write_time = numpy.zeros_like(nxrange).astype(float)\n",
    "\n",
    "for i, n_x in enumerate(tqdm(nxrange)):\n",
    "    multi_model_problem.get_random_requests(n_x, seed=seed)\n",
    "    \n",
    "    plan_intra = bl_intra_1(multi_model_problem)\n",
    "    time_intra = get_time(multi_model_problem, plan_intra)\n",
    "    x_intra_read_time[i] = time_intra[\"read latency\"]\n",
    "    x_intra_write_time[i] = time_intra[\"write latency\"]\n",
    "    \n",
    "    package_inter = bl_req_FCFS(multi_model_problem) \n",
    "    time_inter = multi_model_problem.running_time_decompose(*package_inter)\n",
    "    x_inter_read_time[i] = time_inter[\"read latency\"]\n",
    "    x_inter_write_time[i] = time_inter[\"write latency\"]\n",
    "    \n",
    "    plan_pslice = bl_pslice(multi_model_problem)\n",
    "    time_pslice = get_time(multi_model_problem, plan_pslice)\n",
    "    x_pslice_read_time[i] = time_pslice[\"read latency\"]\n",
    "    x_pslice_write_time[i] = time_pslice[\"write latency\"]\n",
    "    \n",
    "    package_pimlet = bl_pimlet(multi_model_problem) \n",
    "    time_pimlet = multi_model_problem.running_time_decompose(*package_pimlet)\n",
    "    x_pimlet_read_time[i] = time_pimlet[\"read latency\"]\n",
    "    x_pimlet_write_time[i] = time_pimlet[\"write latency\"]\n",
    "    \n",
    "    plan_our = leader_follower(multi_model_problem)\n",
    "    time_our = get_time(multi_model_problem, plan_our)\n",
    "    x_our_read_time[i] = time_our[\"read latency\"]\n",
    "    x_our_write_time[i] = time_our[\"write latency\"]"
   ]
  },
  {
   "cell_type": "code",
   "execution_count": 10,
   "id": "49bc85e8",
   "metadata": {
    "scrolled": true
   },
   "outputs": [
    {
     "data": {
      "image/png": "[encoded data removed]",
      "text/plain": [
       "<Figure size 720x144 with 3 Axes>"
      ]
     },
     "metadata": {
      "needs_background": "light"
     },
     "output_type": "display_data"
    }
   ],
   "source": [
    "fig, (ax1, ax2) = plt.subplots(2, 1, sharex=True, figsize=(10,2), gridspec_kw={'height_ratios': [1, 4]})\n",
    "ax3 = fig.add_subplot(111, frameon=False)\n",
    "names = nxrange\n",
    "n_col = 5\n",
    "width = 6\n",
    "width_per_col = width/n_col\n",
    "base_xticks = numpy.arange(len(names)) * (width+3)\n",
    "ax1.bar(base_xticks-width/2, x_intra_write_time, width=width_per_col, label=\"Intra\", color=color_map[0])\n",
    "ax1.bar(base_xticks-width/2 + width_per_col, x_inter_write_time, width=width_per_col, label=\"Inter\", color=color_map[1])\n",
    "ax1.bar(base_xticks-width/2 + width_per_col*2, x_pslice_write_time, width=width_per_col, label=\"PSLICE\", color=color_map[2])\n",
    "ax1.bar(base_xticks-width/2 + width_per_col*3, x_pimlet_write_time, width=width_per_col, label=\"PIMLet\", color=color_map[3])\n",
    "ax1.bar(base_xticks-width/2 + width_per_col*4, x_our_write_time, width=width_per_col, label=\"PIMShare\", color=color_map[4])\n",
    "\n",
    "ax2.bar(base_xticks-width/2, x_intra_write_time, width=width_per_col, label=\"Intra\", color=color_map[0])\n",
    "ax2.bar(base_xticks-width/2 + width_per_col, x_inter_write_time, width=width_per_col, label=\"Inter\", color=color_map[1])\n",
    "ax2.bar(base_xticks-width/2 + width_per_col*2, x_pslice_write_time, width=width_per_col, label=\"PSLICE\", color=color_map[2])\n",
    "ax2.bar(base_xticks-width/2 + width_per_col*3, x_pimlet_write_time, width=width_per_col, label=\"PIMLet\", color=color_map[3])\n",
    "ax2.bar(base_xticks-width/2 + width_per_col*4, x_our_write_time, width=width_per_col, label=\"PIMShare\", color=color_map[4])\n",
    "\n",
    "ax1_ylim = (1e7, 1e9)\n",
    "ax2_ylim = (0, 1.5e6)\n",
    "ax1.set_xticks(ticks=base_xticks-width_per_col/2, labels=[n if i%2==0 else \"\" for i,n in enumerate(names)],fontsize=fontsize)\n",
    "ax1.set_yticks(ticks=[5e8], labels=[5], fontsize=fontsize)\n",
    "ax1.text(-8, ax1_ylim[1]*1.1,\"1e8\",fontsize=fontsize)\n",
    "ax2.set_xticks(ticks=base_xticks-width_per_col/2, labels=[n if i%2==0 else \"\" for i,n in enumerate(names)], fontsize=fontsize)\n",
    "ax2.set_yticks(ticks=[0, 5e5, 10e5], labels=[0, 5, 10], fontsize=fontsize)\n",
    "ax2.text(-8, ax2_ylim[1]*0.9,\"1e5\",fontsize=fontsize)\n",
    "\n",
    "ax2.set_ylim(ax2_ylim)\n",
    "ax1.set_ylim(ax1_ylim)\n",
    "\n",
    "\n",
    "ax1.spines['bottom'].set_visible(False)\n",
    "ax2.spines['top'].set_visible(False)\n",
    "ax1.tick_params(bottom=False)\n",
    "ax1.grid(axis='y')\n",
    "ax2.grid(axis='y')\n",
    "\n",
    "d = .85\n",
    "kwargs = dict(marker=[(-1, -d), (1, d)], markersize=15,\n",
    "              linestyle='none', color='r', mec='r', mew=1, clip_on=False)\n",
    "ax1.plot([0, 1], [0, 0],transform=ax1.transAxes, **kwargs)\n",
    "ax2.plot([0, 1], [1, 1], transform=ax2.transAxes, **kwargs)\n",
    "\n",
    "ax3.tick_params(labelcolor='none', top=False, bottom=False, left=False, right=False)\n",
    "ax2.set_xlabel(\"Number of request\", fontsize=fontsize)\n",
    "ax3.set_ylabel(\"Writing Time (ns)\", fontsize=fontsize)\n",
    "ax1.legend(loc=(-0.05, 1.7), ncol=5, fontsize=fontsize)\n",
    "plt.subplots_adjust(wspace=0, hspace=0.1)\n",
    "\n",
    "plt.show()"
   ]
  }
 ],
 "metadata": {
  "kernelspec": {
   "display_name": "Python 3 (ipykernel)",
   "language": "python",
   "name": "python3"
  },
  "language_info": {
   "codemirror_mode": {
    "name": "ipython",
    "version": 3
   },
   "file_extension": ".py",
   "mimetype": "text/x-python",
   "name": "python",
   "nbconvert_exporter": "python",
   "pygments_lexer": "ipython3",
   "version": "3.7.13"
  }
 },
 "nbformat": 4,
 "nbformat_minor": 5
}
