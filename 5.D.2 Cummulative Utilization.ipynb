{
 "cells": [
  {
   "cell_type": "code",
   "execution_count": 1,
   "id": "d7891481",
   "metadata": {},
   "outputs": [],
   "source": [
    "import os\n",
    "from tqdm.notebook import tqdm\n",
    "import pandas\n",
    "import numpy\n",
    "import matplotlib.pyplot as plt\n",
    "\n",
    "from ProblemInstance import ProblemInstance\n",
    "from baseline_intra import bl_intra_1\n",
    "from baseline_request import bl_req_FCFS\n",
    "from baseline_pslice import bl_pslice\n",
    "from baseline_pimlet import bl_pimlet\n",
    "from our_approach import leader_follower"
   ]
  },
  {
   "cell_type": "code",
   "execution_count": 2,
   "id": "c02f44f4",
   "metadata": {},
   "outputs": [],
   "source": [
    "fontsize = 15\n",
    "neurosim_dir = \"NetStructure/\"\n",
    "summary_file = \"NeuroSIMOut/summary.csv\"\n",
    "\n",
    "color_map = [\"#ff8884\", \"indianred\", \"#f8ac8c\",  \"#2878b5\", '#80b1d3', \"#9ac9db\"]\n",
    "\n",
    "predef_N_X = numpy.array([\n",
    "    12000, 400, 15600, 12000, 3600, 3600, 3600, 512, 90808, \n",
    "    15608, 15608, 15200, 1000, 1000, 1000, 1000, 1000, 1000,])"
   ]
  },
  {
   "cell_type": "code",
   "execution_count": 3,
   "id": "73a11080",
   "metadata": {},
   "outputs": [],
   "source": [
    "def get_xb_utilization(problem, plan): \n",
    "    return problem.utilization_xb(*problem.get_pc_packages_from_plan(*plan))\n",
    "\n",
    "def get_buf_utilization(problem, plan):\n",
    "    return problem.utilization_buf(*problem.get_pc_packages_from_plan(*plan))\n",
    "\n",
    "def cumulative_utilization(utilization, time):\n",
    "    cumulate_t = 0\n",
    "    cumulate_u = 0\n",
    "    for u, t in zip(utilization, time):\n",
    "        cumulate_t += t\n",
    "        cumulate_u += u*t\n",
    "    return cumulate_u / cumulate_t * 100"
   ]
  },
  {
   "cell_type": "code",
   "execution_count": 4,
   "id": "2357a8ae",
   "metadata": {},
   "outputs": [
    {
     "data": {
      "application/vnd.jupyter.widget-view+json": {
       "model_id": "0a5a6dc034874ec7b06bd10f51a87a06",
       "version_major": 2,
       "version_minor": 0
      },
      "text/plain": [
       "  0%|          | 0/100 [00:00<?, ?it/s]"
      ]
     },
     "metadata": {},
     "output_type": "display_data"
    }
   ],
   "source": [
    "seed_set = numpy.arange(100)\n",
    "# seed = 21\n",
    "n_req = 750\n",
    "\n",
    "multi_model_problem = ProblemInstance(neurosim_dir)\n",
    "multi_model_problem.read_nn_profile(summary_file)\n",
    "N_M = multi_model_problem.N_M\n",
    "nmrange = numpy.arange(2, N_M+1)\n",
    "\n",
    "intra_xb_utilization = numpy.zeros_like(nmrange).astype(float)\n",
    "inter_xb_utilization = numpy.zeros_like(nmrange).astype(float)\n",
    "pslice_xb_utilization = numpy.zeros_like(nmrange).astype(float)\n",
    "pimlet_xb_utilization = numpy.zeros_like(nmrange).astype(float)\n",
    "our_xb_utilization = numpy.zeros_like(nmrange).astype(float)\n",
    "\n",
    "intra_buf_utilization = numpy.zeros_like(nmrange).astype(float)\n",
    "inter_buf_utilization = numpy.zeros_like(nmrange).astype(float)\n",
    "pslice_buf_utilization = numpy.zeros_like(nmrange).astype(float)\n",
    "pimlet_buf_utilization = numpy.zeros_like(nmrange).astype(float)\n",
    "our_buf_utilization = numpy.zeros_like(nmrange).astype(float)\n",
    "\n",
    "nn_ids = numpy.arange(N_M)\n",
    "for seed in tqdm(seed_set):\n",
    "    # print(f\"random seed={seed}\", \"-\"*100)\n",
    "    numpy.random.seed(seed)\n",
    "    numpy.random.shuffle(nn_ids)\n",
    "    for i, n_m in enumerate(nmrange):\n",
    "        nn = nn_ids[:n_m]\n",
    "        multi_model_problem.get_exact_requests(nn_ids=nn, n_x=predef_N_X[nn])\n",
    "\n",
    "        plan_intra = bl_intra_1(multi_model_problem)\n",
    "        intra_xb_utilization[i] += cumulative_utilization(*get_xb_utilization(multi_model_problem, plan_intra))\n",
    "        intra_buf_utilization[i] += cumulative_utilization(*get_buf_utilization(multi_model_problem, plan_intra))\n",
    "\n",
    "        package_inter = bl_req_FCFS(multi_model_problem)\n",
    "        inter_xb_utilization[i] += cumulative_utilization(*multi_model_problem.utilization_xb(*package_inter))\n",
    "        inter_buf_utilization[i] += cumulative_utilization(*multi_model_problem.utilization_buf(*package_inter))\n",
    "\n",
    "        plan_pslice = bl_pslice(multi_model_problem)\n",
    "        pslice_xb_utilization[i] += cumulative_utilization(*get_xb_utilization(multi_model_problem, plan_pslice))\n",
    "        pslice_buf_utilization[i] += cumulative_utilization(*get_buf_utilization(multi_model_problem, plan_intra))\n",
    "\n",
    "        package_pimlet = bl_pimlet(multi_model_problem)\n",
    "        pimlet_xb_utilization[i] += cumulative_utilization(*multi_model_problem.utilization_xb(*package_pimlet))\n",
    "        pimlet_buf_utilization[i] += cumulative_utilization(*multi_model_problem.utilization_buf(*package_pimlet))\n",
    "\n",
    "        plan_our = leader_follower(multi_model_problem)\n",
    "        our_xb_utilization[i] += cumulative_utilization(*get_xb_utilization(multi_model_problem, plan_our))\n",
    "        our_buf_utilization[i] += cumulative_utilization(*get_buf_utilization(multi_model_problem, plan_our))\n",
    "\n",
    "intra_xb_utilization /= len(seed_set)\n",
    "inter_xb_utilization /= len(seed_set)\n",
    "pslice_xb_utilization /= len(seed_set)\n",
    "pimlet_xb_utilization /= len(seed_set)\n",
    "our_xb_utilization /= len(seed_set)\n",
    "\n",
    "intra_buf_utilization /= len(seed_set)\n",
    "inter_buf_utilization /= len(seed_set)\n",
    "pslice_buf_utilization /= len(seed_set)\n",
    "pimlet_buf_utilization /= len(seed_set)\n",
    "our_buf_utilization /= len(seed_set)"
   ]
  },
  {
   "cell_type": "code",
   "execution_count": 6,
   "id": "455c6faf",
   "metadata": {
    "scrolled": false
   },
   "outputs": [
    {
     "data": {
      "image/png": "[encoded data removed]",
      "text/plain": [
       "<Figure size 720x288 with 2 Axes>"
      ]
     },
     "metadata": {
      "needs_background": "light"
     },
     "output_type": "display_data"
    }
   ],
   "source": [
    "fig, axes = plt.subplots(2, 1, sharex=True, sharey=True, figsize=(10,4))\n",
    "\n",
    "names = nmrange\n",
    "n_col = 5\n",
    "width = 6\n",
    "width_per_col = width/n_col\n",
    "base_xticks = numpy.arange(len(names)) * (width+1.5)\n",
    "axes[0].bar(base_xticks-width/2, intra_xb_utilization, width=width_per_col, label=\"Intra\", color=color_map[0])\n",
    "axes[0].bar(base_xticks-width/2 + width_per_col, inter_xb_utilization, width=width_per_col, label=\"Inter\", color=color_map[1])\n",
    "axes[0].bar(base_xticks-width/2 + width_per_col*2, pslice_xb_utilization, width=width_per_col, label=\"PSLICE\", color=color_map[2])\n",
    "axes[0].bar(base_xticks-width/2 + width_per_col*3, pimlet_xb_utilization, width=width_per_col, label=\"PIMLet\", color=color_map[3])\n",
    "axes[0].bar(base_xticks-width/2 + width_per_col*4, our_xb_utilization, width=width_per_col, label=\"PIMShare\", color=color_map[4])\n",
    "axes[0].set_ylabel(\"Crossbar\\n Utilization (%)\", fontsize=fontsize)\n",
    "axes[0].set_yticks(ticks=[0, 25,50,75,100], labels=[\"0\",\"\",\"50\",\"\",\"100\"], fontsize=fontsize)\n",
    "axes[0].grid(axis='y')\n",
    "axes[0].legend(ncol=5, loc=(-0.05, 1.08), fontsize=fontsize)\n",
    "\n",
    "axes[1].bar(base_xticks-width/2, intra_buf_utilization, width=width_per_col, label=\"Intra\", color=color_map[0])\n",
    "axes[1].bar(base_xticks-width/2 + width_per_col, inter_buf_utilization, width=width_per_col, label=\"Inter\", color=color_map[1])\n",
    "axes[1].bar(base_xticks-width/2 + width_per_col*2, pslice_buf_utilization, width=width_per_col, label=\"PSLICE\", color=color_map[2])\n",
    "axes[1].bar(base_xticks-width/2 + width_per_col*3, pimlet_buf_utilization, width=width_per_col, label=\"PIMLet\", color=color_map[3])\n",
    "axes[1].bar(base_xticks-width/2 + width_per_col*4, our_buf_utilization, width=width_per_col, label=\"PIMShare\", color=color_map[4])\n",
    "axes[1].set_ylabel(\"Buffer\\n Utilization (%)\", fontsize=fontsize)\n",
    "axes[1].set_yticks(ticks=[0, 25,50,75,100], labels=[\"0\",\"\",\"50\",\"\",\"100\"], fontsize=fontsize)\n",
    "axes[1].grid(axis='y')\n",
    "\n",
    "axes[1].set_xticks(ticks=base_xticks-width_per_col/2, labels=names,rotation=0, fontsize=fontsize)\n",
    "\n",
    "plt.gca().yaxis.offsetText.set_fontsize(fontsize)\n",
    "# plt.yscale(\"log\")\n",
    "plt.xlabel(\"Number of DNN models\", fontsize=fontsize)\n",
    "plt.ylim((0,105))\n",
    "\n",
    "plt.show()"
   ]
  },
  {
   "cell_type": "code",
   "execution_count": 7,
   "id": "fed66c82",
   "metadata": {},
   "outputs": [
    {
     "data": {
      "application/vnd.jupyter.widget-view+json": {
       "model_id": "c002186c99ba450eb35d35625c8602d1",
       "version_major": 2,
       "version_minor": 0
      },
      "text/plain": [
       "0it [00:00, ?it/s]"
      ]
     },
     "metadata": {},
     "output_type": "display_data"
    }
   ],
   "source": [
    "seed = 5\n",
    "n_req = 20000\n",
    "n_req_step = 10\n",
    "# n_req_start = n_req//n_req_step\n",
    "n_req_start = 2000\n",
    "\n",
    "multi_model_problem = ProblemInstance(neurosim_dir)\n",
    "multi_model_problem.read_nn_profile(summary_file)\n",
    "N_M = multi_model_problem.N_M\n",
    "nxrange = numpy.arange(n_req_start, n_req+1, n_req//n_req_step)\n",
    "\n",
    "intra_xb_utilization_x = numpy.zeros_like(nxrange).astype(float)\n",
    "inter_xb_utilization_x = numpy.zeros_like(nxrange).astype(float)\n",
    "pslice_xb_utilization_x = numpy.zeros_like(nxrange).astype(float)\n",
    "pimlet_xb_utilization_x = numpy.zeros_like(nxrange).astype(float)\n",
    "our_xb_utilization_x = numpy.zeros_like(nxrange).astype(float)\n",
    "\n",
    "intra_buf_utilization_x = numpy.zeros_like(nxrange).astype(float)\n",
    "inter_buf_utilization_x = numpy.zeros_like(nxrange).astype(float)\n",
    "pslice_buf_utilization_x = numpy.zeros_like(nxrange).astype(float)\n",
    "pimlet_buf_utilization_x = numpy.zeros_like(nxrange).astype(float)\n",
    "our_buf_utilization_x = numpy.zeros_like(nxrange).astype(float)\n",
    "\n",
    "for i, n_x in tqdm(enumerate(nxrange)):\n",
    "    # print(f\"{n_x} requests\", \"-\"*50)\n",
    "    multi_model_problem.get_random_requests(n_x, seed=seed)\n",
    "    \n",
    "    plan_intra = bl_intra_1(multi_model_problem)\n",
    "    intra_xb_utilization_x[i] += cumulative_utilization(*get_xb_utilization(multi_model_problem, plan_intra))\n",
    "    intra_buf_utilization_x[i] += cumulative_utilization(*get_buf_utilization(multi_model_problem, plan_intra))\n",
    "\n",
    "    package_inter = bl_req_FCFS(multi_model_problem)\n",
    "    inter_xb_utilization_x[i] += cumulative_utilization(*multi_model_problem.utilization_xb(*package_inter))\n",
    "    inter_buf_utilization_x[i] += cumulative_utilization(*multi_model_problem.utilization_buf(*package_inter))\n",
    "\n",
    "    plan_pslice = bl_pslice(multi_model_problem)\n",
    "    pslice_xb_utilization_x[i] += cumulative_utilization(*get_xb_utilization(multi_model_problem, plan_pslice))\n",
    "    pslice_buf_utilization_x[i] += cumulative_utilization(*get_buf_utilization(multi_model_problem, plan_intra))\n",
    "\n",
    "    package_pimlet = bl_pimlet(multi_model_problem)\n",
    "    pimlet_xb_utilization_x[i] += cumulative_utilization(*multi_model_problem.utilization_xb(*package_pimlet))\n",
    "    pimlet_buf_utilization_x[i] += cumulative_utilization(*multi_model_problem.utilization_buf(*package_pimlet))\n",
    "\n",
    "    plan_our = leader_follower(multi_model_problem)\n",
    "    our_xb_utilization_x[i] += cumulative_utilization(*get_xb_utilization(multi_model_problem, plan_our))\n",
    "    our_buf_utilization_x[i] += cumulative_utilization(*get_buf_utilization(multi_model_problem, plan_our))"
   ]
  },
  {
   "cell_type": "code",
   "execution_count": null,
   "id": "4769ee43",
   "metadata": {},
   "outputs": [],
   "source": [
    "fig, axes = plt.subplots(2, 1, sharex=True, sharey=True, figsize=(10,4))\n",
    "\n",
    "names = nxrange\n",
    "n_col = 5\n",
    "width = 6\n",
    "width_per_col = width/n_col\n",
    "base_xticks = numpy.arange(len(names)) * (width+1.5)\n",
    "axes[0].bar(base_xticks-width/2, intra_xb_utilization_x, width=width_per_col, label=\"Intra\", color=color_map[0])\n",
    "axes[0].bar(base_xticks-width/2 + width_per_col, inter_xb_utilization_x, width=width_per_col, label=\"Inter\", color=color_map[1])\n",
    "axes[0].bar(base_xticks-width/2 + width_per_col*2, pslice_xb_utilization_x, width=width_per_col, label=\"PSLICE\", color=color_map[2])\n",
    "axes[0].bar(base_xticks-width/2 + width_per_col*3, pimlet_xb_utilization_x, width=width_per_col, label=\"PIMLet\", color=color_map[3])\n",
    "axes[0].bar(base_xticks-width/2 + width_per_col*4, our_xb_utilization_x, width=width_per_col, label=\"PIMShare\", color=color_map[4])\n",
    "axes[0].set_ylabel(\"Crossbar\\n Utilization (%)\", fontsize=fontsize)\n",
    "axes[0].set_yticks(ticks=[0, 25,50,75,100], labels=[\"0\",\"\",\"50\",\"\",\"100\"], fontsize=fontsize)\n",
    "axes[0].grid(axis='y')\n",
    "axes[0].legend(ncol=5, loc=(-0.05, 1.08), fontsize=fontsize)\n",
    "\n",
    "axes[1].bar(base_xticks-width/2, intra_buf_utilization_x, width=width_per_col, label=\"Intra\", color=color_map[0])\n",
    "axes[1].bar(base_xticks-width/2 + width_per_col, inter_buf_utilization_x, width=width_per_col, label=\"Inter\", color=color_map[1])\n",
    "axes[1].bar(base_xticks-width/2 + width_per_col*2, pslice_buf_utilization_x, width=width_per_col, label=\"PSLICE\", color=color_map[2])\n",
    "axes[1].bar(base_xticks-width/2 + width_per_col*3, pimlet_buf_utilization_x, width=width_per_col, label=\"PIMLet\", color=color_map[3])\n",
    "axes[1].bar(base_xticks-width/2 + width_per_col*4, our_buf_utilization_x, width=width_per_col, label=\"PIMShare\", color=color_map[4])\n",
    "axes[1].set_ylabel(\"Buffer\\n Utilization (%)\", fontsize=fontsize)\n",
    "axes[1].set_yticks(ticks=[0, 25,50,75,100], labels=[\"0\",\"\",\"50\",\"\",\"100\"], fontsize=fontsize)\n",
    "axes[1].grid(axis='y')\n",
    "\n",
    "axes[1].set_xticks(ticks=base_xticks-width_per_col/2, labels=names,rotation=0, fontsize=fontsize)\n",
    "\n",
    "plt.gca().yaxis.offsetText.set_fontsize(fontsize)\n",
    "# plt.yscale(\"log\")\n",
    "plt.xlabel(\"Number of DNN models\", fontsize=fontsize)\n",
    "plt.ylim((0,105))\n",
    "\n",
    "pdf = PdfPages(figure_dir + \"cumulative-utilization-wrt-requests.pdf\")\n",
    "pdf.savefig(bbox_inches='tight', transparent=True, dpi=600)\n",
    "pdf.close()\n",
    "plt.show()"
   ]
  }
 ],
 "metadata": {
  "kernelspec": {
   "display_name": "Python 3 (ipykernel)",
   "language": "python",
   "name": "python3"
  },
  "language_info": {
   "codemirror_mode": {
    "name": "ipython",
    "version": 3
   },
   "file_extension": ".py",
   "mimetype": "text/x-python",
   "name": "python",
   "nbconvert_exporter": "python",
   "pygments_lexer": "ipython3",
   "version": "3.7.13"
  }
 },
 "nbformat": 4,
 "nbformat_minor": 5
}
