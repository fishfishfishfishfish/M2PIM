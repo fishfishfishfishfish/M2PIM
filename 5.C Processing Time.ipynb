{
 "cells": [
  {
   "cell_type": "code",
   "execution_count": 1,
   "id": "d7891481",
   "metadata": {},
   "outputs": [],
   "source": [
    "import os\n",
    "from tqdm.notebook import tqdm\n",
    "import pandas\n",
    "import numpy\n",
    "import matplotlib.pyplot as plt\n",
    "\n",
    "from ProblemInstance import ProblemInstance\n",
    "from baseline_intra import bl_intra_1\n",
    "from baseline_request import bl_req_FCFS\n",
    "from baseline_pslice import bl_pslice\n",
    "from baseline_pimlet import bl_pimlet\n",
    "from our_approach import leader_follower"
   ]
  },
  {
   "cell_type": "code",
   "execution_count": 2,
   "id": "c02f44f4",
   "metadata": {},
   "outputs": [],
   "source": [
    "fontsize = 15\n",
    "neurosim_dir = \"NetStructure/\"\n",
    "summary_file = \"NeuroSIMOut/summary.csv\"\n",
    "figure_dir = \"figures/\"\n",
    "color_map = [\"#ff8884\", \"indianred\", \"#f8ac8c\",  \"#2878b5\", '#80b1d3', \"#9ac9db\"]\n",
    "predef_N_X = numpy.array([12000, 400, 15600, 12000, 3600, 3600, 3600, 512, 90808, \n",
    "                          15608, 15608, 15200, 1000, 1000, 1000, 1000, 1000, 1000,])"
   ]
  },
  {
   "cell_type": "code",
   "execution_count": 3,
   "id": "73a11080",
   "metadata": {},
   "outputs": [],
   "source": [
    "def get_time(problem, plan): \n",
    "    return problem.running_time(*problem.get_pc_packages_from_plan(*plan))"
   ]
  },
  {
   "cell_type": "code",
   "execution_count": null,
   "id": "2357a8ae",
   "metadata": {},
   "outputs": [
    {
     "data": {
      "application/vnd.jupyter.widget-view+json": {
       "model_id": "3e03b63c9a784ab1b29771f7940fd2db",
       "version_major": 2,
       "version_minor": 0
      },
      "text/plain": [
       "  0%|          | 0/100 [00:00<?, ?it/s]"
      ]
     },
     "metadata": {},
     "output_type": "display_data"
    }
   ],
   "source": [
    "seed_set = numpy.arange(100)\n",
    "n_req = 1000\n",
    "\n",
    "multi_model_problem = ProblemInstance(neurosim_dir)\n",
    "multi_model_problem.read_nn_profile(summary_file)\n",
    "N_M = multi_model_problem.N_M\n",
    "nmrange = numpy.arange(2, N_M+1)\n",
    "\n",
    "intra_times = numpy.zeros_like(nmrange).astype(float)\n",
    "inter_times = numpy.zeros_like(nmrange).astype(float)\n",
    "pslice_times = numpy.zeros_like(nmrange).astype(float)\n",
    "pimlet_times = numpy.zeros_like(nmrange).astype(float)\n",
    "our_times = numpy.zeros_like(nmrange).astype(float)\n",
    "\n",
    "\n",
    "nn_ids = numpy.arange(N_M)\n",
    "for seed in tqdm(seed_set):\n",
    "    # print(f\"random seed={seed}\", \"-\"*100)\n",
    "    numpy.random.seed(seed)\n",
    "    numpy.random.shuffle(nn_ids)\n",
    "    for i, n_m in enumerate(nmrange):\n",
    "        nn = nn_ids[:n_m]\n",
    "        multi_model_problem.get_exact_requests(nn_ids=nn, n_x=predef_N_X[nn])\n",
    "\n",
    "        plan_intra = bl_intra_1(multi_model_problem)\n",
    "        intra_times[i] += get_time(multi_model_problem, plan_intra)\n",
    "\n",
    "        package_inter = bl_req_FCFS(multi_model_problem) \n",
    "        inter_times[i] += multi_model_problem.running_time(*package_inter)\n",
    "\n",
    "        plan_pslice = bl_pslice(multi_model_problem)\n",
    "        pslice_times[i] += get_time(multi_model_problem, plan_pslice)\n",
    "\n",
    "        package_pimlet = bl_pimlet(multi_model_problem) \n",
    "        pimlet_times[i] += multi_model_problem.running_time(*package_pimlet)\n",
    "\n",
    "        plan_our = leader_follower(multi_model_problem)\n",
    "        our_times[i] += get_time(multi_model_problem, plan_our)\n",
    "\n",
    "intra_times /= len(seed_set)\n",
    "inter_times /= len(seed_set)\n",
    "pslice_times /= len(seed_set)\n",
    "pimlet_times /= len(seed_set)\n",
    "our_times /= len(seed_set)"
   ]
  },
  {
   "cell_type": "code",
   "execution_count": null,
   "id": "455c6faf",
   "metadata": {
    "scrolled": true
   },
   "outputs": [],
   "source": [
    "plt.figure(figsize=(10, 2))\n",
    "names = numpy.arange(2, N_M+1)\n",
    "n_col = 5\n",
    "width = 6\n",
    "width_per_col = width/n_col\n",
    "base_xticks = numpy.arange(len(names)) * (width+1.5)\n",
    "plt.bar(base_xticks-width/2, intra_times, width=width_per_col, label=\"Intra\", color=color_map[0])\n",
    "plt.bar(base_xticks-width/2 + width_per_col, inter_times, width=width_per_col, label=\"inter\", color=color_map[1])\n",
    "plt.bar(base_xticks-width/2 + width_per_col*2, pslice_times, width=width_per_col, label=\"PSLICE\", color=color_map[2])\n",
    "plt.bar(base_xticks-width/2 + width_per_col*3, pimlet_times, width=width_per_col, label=\"PIMLet\", color=color_map[3])\n",
    "plt.bar(base_xticks-width/2 + width_per_col*4, our_times, width=width_per_col, label=\"PIMShare\", color=color_map[4])\n",
    "\n",
    "plt.xticks(ticks=base_xticks-width_per_col/2, labels=names,rotation=0, fontsize=fontsize)\n",
    "plt.yticks(fontsize=fontsize)\n",
    "plt.gca().yaxis.offsetText.set_fontsize(fontsize)\n",
    "plt.xlabel(\"Number of DNN models\", fontsize=fontsize)\n",
    "plt.ylabel(\"Processing Time (ns)\", fontsize=fontsize)\n",
    "plt.legend(loc=(-0.05, 1.2), ncol=5, fontsize=fontsize)\n",
    "plt.ylim((0,2e10))\n",
    "plt.grid(axis='y')\n",
    "\n",
    "plt.show()"
   ]
  },
  {
   "cell_type": "code",
   "execution_count": null,
   "id": "fed66c82",
   "metadata": {},
   "outputs": [],
   "source": [
    "seed = 5\n",
    "n_req = 20000\n",
    "n_req_step = 10\n",
    "# n_req_start = n_req//n_req_step\n",
    "n_req_start = 2000\n",
    "\n",
    "multi_model_problem = ProblemInstance(neurosim_dir)\n",
    "multi_model_problem.read_nn_profile(summary_file)\n",
    "N_M = multi_model_problem.N_M\n",
    "nxrange = numpy.arange(n_req_start, n_req+1, n_req//n_req_step)\n",
    "\n",
    "intra_times_x = numpy.zeros_like(nxrange).astype(float)\n",
    "inter_times_x = numpy.zeros_like(nxrange).astype(float)\n",
    "pslice_times_x = numpy.zeros_like(nxrange).astype(float)\n",
    "pimlet_times_x = numpy.zeros_like(nxrange).astype(float)\n",
    "our_times_x = numpy.zeros_like(nxrange).astype(float)\n",
    "\n",
    "for i, n_x in tqdm(enumerate(nxrange)):\n",
    "    # print(f\"{n_x} requests\", \"-\"*50)\n",
    "    multi_model_problem.get_random_requests(n_x, seed=seed)\n",
    "    \n",
    "    plan_intra = bl_intra_1(multi_model_problem)\n",
    "    intra_times_x[i] += get_time(multi_model_problem, plan_intra)\n",
    "\n",
    "    package_inter = bl_req_FCFS(multi_model_problem) \n",
    "    inter_times_x[i] += multi_model_problem.running_time(*package_inter)\n",
    "\n",
    "    plan_pslice = bl_pslice(multi_model_problem)\n",
    "    pslice_times_x[i] += get_time(multi_model_problem, plan_pslice)\n",
    "\n",
    "    package_pimlet = bl_pimlet(multi_model_problem) \n",
    "    pimlet_times_x[i] += multi_model_problem.running_time(*package_pimlet)\n",
    "\n",
    "    plan_our = leader_follower(multi_model_problem)\n",
    "    our_times_x[i] += get_time(multi_model_problem, plan_our)"
   ]
  },
  {
   "cell_type": "code",
   "execution_count": null,
   "id": "0c1159b8",
   "metadata": {},
   "outputs": [],
   "source": [
    "plt.figure(figsize=(10, 2))\n",
    "names = nxrange\n",
    "n_col = 5\n",
    "width = 6\n",
    "width_per_col = width/n_col\n",
    "base_xticks = numpy.arange(len(names)) * (width+1.5)\n",
    "plt.bar(base_xticks-width/2, intra_times_x, width=width_per_col, label=\"Intra\", color=color_map[0])\n",
    "plt.bar(base_xticks-width/2 + width_per_col, inter_times_x, width=width_per_col, label=\"inter\", color=color_map[1])\n",
    "plt.bar(base_xticks-width/2 + width_per_col*2, pslice_times_x, width=width_per_col, label=\"PSLICE\", color=color_map[2])\n",
    "plt.bar(base_xticks-width/2 + width_per_col*3, pimlet_times_x, width=width_per_col, label=\"PIMLet\", color=color_map[3])\n",
    "plt.bar(base_xticks-width/2 + width_per_col*4, our_times_x, width=width_per_col, label=\"PIMShare\", color=color_map[4])\n",
    "\n",
    "plt.xticks(ticks=base_xticks-width_per_col/2, labels=[n if i%2==0 else \"\" for i,n in enumerate(names)], rotation=0, fontsize=fontsize)\n",
    "plt.yticks(fontsize=fontsize)\n",
    "plt.gca().yaxis.offsetText.set_fontsize(fontsize)\n",
    "plt.xlabel(\"Number of requests\", fontsize=fontsize)\n",
    "plt.ylabel(\"Processing Time (ns)\", fontsize=fontsize)\n",
    "plt.legend(loc=(-0.05,1.2), ncol=5, fontsize=fontsize)\n",
    "plt.ylim((0,15e9))\n",
    "plt.grid(axis='y')\n",
    "\n",
    "plt.show()"
   ]
  }
 ],
 "metadata": {
  "kernelspec": {
   "display_name": "Python 3 (ipykernel)",
   "language": "python",
   "name": "python3"
  },
  "language_info": {
   "codemirror_mode": {
    "name": "ipython",
    "version": 3
   },
   "file_extension": ".py",
   "mimetype": "text/x-python",
   "name": "python",
   "nbconvert_exporter": "python",
   "pygments_lexer": "ipython3",
   "version": "3.7.13"
  }
 },
 "nbformat": 4,
 "nbformat_minor": 5
}
