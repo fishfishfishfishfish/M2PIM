{
 "cells": [
  {
   "cell_type": "code",
   "execution_count": 1,
   "id": "ed095451",
   "metadata": {},
   "outputs": [],
   "source": [
    "from tqdm.notebook import tqdm\n",
    "import pandas\n",
    "import numpy\n",
    "import matplotlib.pyplot as plt\n",
    "\n",
    "\n",
    "from ProblemInstance import ProblemInstance\n",
    "from baseline_intra import bl_intra_1\n",
    "from our_approach import leader_follower\n",
    "from our_approach import leader_follower_est\n",
    "from our_approach import leader_follower_oracle"
   ]
  },
  {
   "cell_type": "code",
   "execution_count": 2,
   "id": "3b277041",
   "metadata": {},
   "outputs": [],
   "source": [
    "def get_ops(problem, plan):\n",
    "    return problem.operation_per_second(*problem.get_pc_packages_from_plan(*plan))"
   ]
  },
  {
   "cell_type": "code",
   "execution_count": 3,
   "id": "a94244e3",
   "metadata": {},
   "outputs": [],
   "source": [
    "fontsize = 15\n",
    "neurosim_dir = \"NetStructure/\"\n",
    "summary_file = \"NeuroSIMOut/summary.csv\"\n",
    "color_map = [\"#ff8884\", \"indianred\", \"#f8ac8c\",  \"#2878b5\", '#80b1d3', \"#9ac9db\"]\n",
    "\n",
    "predef_N_X = numpy.array([\n",
    "    12000, 400, 15600, 12000, 3600, 3600, 3600, 512, 90808, \n",
    "    15608, 15608, 15200, 1000, 1000, 1000, 1000, 1000, 1000,])"
   ]
  },
  {
   "cell_type": "code",
   "execution_count": 4,
   "id": "c54cbf56",
   "metadata": {
    "scrolled": true
   },
   "outputs": [
    {
     "data": {
      "application/vnd.jupyter.widget-view+json": {
       "model_id": "06c26a7cf03e4f9481fe7f75b674e7d3",
       "version_major": 2,
       "version_minor": 0
      },
      "text/plain": [
       "  0%|          | 0/100 [00:00<?, ?it/s]"
      ]
     },
     "metadata": {},
     "output_type": "display_data"
    }
   ],
   "source": [
    "seed_set = numpy.arange(100)\n",
    "operations = []\n",
    "\n",
    "multi_model_problem = ProblemInstance(neurosim_dir)\n",
    "multi_model_problem.read_nn_profile(summary_file)\n",
    "multi_model_problem.set_buffer_size(100000000) # large buffer\n",
    "N_M = multi_model_problem.N_M\n",
    "nmrange = numpy.arange(2, N_M+1)\n",
    "\n",
    "intra_ops = numpy.zeros_like(nmrange).astype(float)\n",
    "bad_ops = numpy.zeros_like(nmrange).astype(float)\n",
    "good_ops = numpy.zeros_like(nmrange).astype(float)\n",
    "oracle_ops = numpy.zeros_like(nmrange).astype(float)\n",
    "\n",
    "nn_ids = numpy.arange(N_M)\n",
    "for seed in tqdm(seed_set):\n",
    "    # print(f\"random seed={seed}\", \"-\"*100)\n",
    "    numpy.random.seed(seed)\n",
    "    numpy.random.shuffle(nn_ids)\n",
    "    for i, n_m in enumerate(nmrange):\n",
    "        nn = nn_ids[:n_m]\n",
    "        multi_model_problem.get_exact_requests(nn_ids=nn, n_x=predef_N_X[nn])\n",
    "        operations.append(multi_model_problem.operations)\n",
    "\n",
    "        plan_intra = bl_intra_1(multi_model_problem) \n",
    "        intra_ops[i] += get_ops(multi_model_problem, plan_intra)\n",
    "\n",
    "        plan_bad = leader_follower_est(multi_model_problem)\n",
    "        bad_ops[i] += get_ops(multi_model_problem, plan_bad)\n",
    "        \n",
    "        plan_good = leader_follower(multi_model_problem)\n",
    "        good_ops[i] += get_ops(multi_model_problem, plan_good)\n",
    "\n",
    "        plan_oracle = leader_follower_oracle(multi_model_problem)\n",
    "        oracle_ops[i] += get_ops(multi_model_problem, plan_oracle)\n",
    "        \n",
    "intra_ops /= len(seed_set)\n",
    "bad_ops /= len(seed_set)\n",
    "good_ops /= len(seed_set)\n",
    "oracle_ops /= len(seed_set)"
   ]
  },
  {
   "cell_type": "code",
   "execution_count": 5,
   "id": "528a17c6",
   "metadata": {},
   "outputs": [
    {
     "data": {
      "image/png": "[encoded data removed]",
      "text/plain": [
       "<Figure size 720x144 with 1 Axes>"
      ]
     },
     "metadata": {
      "needs_background": "light"
     },
     "output_type": "display_data"
    }
   ],
   "source": [
    "plt.figure(figsize=(10, 2))\n",
    "names = nmrange\n",
    "n_col = 4\n",
    "width = 6\n",
    "width_per_col = width/n_col\n",
    "base_xticks = numpy.arange(len(names)) * (width+1.5)\n",
    "plt.bar(base_xticks-width/2+width_per_col, bad_ops, width=width_per_col, label=\"NCom\", color=color_map[1], align='center')\n",
    "plt.bar(base_xticks-width/2+width_per_col*2, good_ops, width=width_per_col, label=\"Cost\", color=color_map[2], align='center')\n",
    "plt.bar(base_xticks-width/2+width_per_col*3, oracle_ops, width=width_per_col, label=\"Oracle\", color=color_map[3], align='center')\n",
    "\n",
    "plt.xticks(ticks=base_xticks-width_per_col/2, labels=names,rotation=0, fontsize=fontsize)\n",
    "plt.yticks(fontsize=fontsize)\n",
    "plt.xlabel(\"Number of DNN models\", fontsize=fontsize)\n",
    "plt.ylabel(\"TOPS\", fontsize=fontsize)\n",
    "plt.legend(loc=(0.41, 0.73), ncol=6, fontsize=fontsize)\n",
    "plt.grid(axis='y')\n",
    "\n",
    "plt.show()"
   ]
  }
 ],
 "metadata": {
  "kernelspec": {
   "display_name": "Python 3 (ipykernel)",
   "language": "python",
   "name": "python3"
  },
  "language_info": {
   "codemirror_mode": {
    "name": "ipython",
    "version": 3
   },
   "file_extension": ".py",
   "mimetype": "text/x-python",
   "name": "python",
   "nbconvert_exporter": "python",
   "pygments_lexer": "ipython3",
   "version": "3.7.13"
  },
  "vscode": {
   "interpreter": {
    "hash": "2024a54eac110cc10c81ccf0f7a5400e043d55ed4e57717b1b876508eecf5e65"
   }
  }
 },
 "nbformat": 4,
 "nbformat_minor": 5
}
